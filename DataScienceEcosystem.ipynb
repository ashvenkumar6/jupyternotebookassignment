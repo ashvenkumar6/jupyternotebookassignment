{
 "cells": [
  {
   "cell_type": "markdown",
   "id": "20dfceb7-0f5b-44ad-b9f1-184fdfe8e15a",
   "metadata": {},
   "source": [
    "# Data Science Tools and Ecosystem"
   ]
  },
  {
   "cell_type": "markdown",
   "id": "ba5364df-7a0b-43e9-a787-a741714bf63f",
   "metadata": {},
   "source": [
    "In this notebook, Data Science Tools and Ecosystem are summarized"
   ]
  },
  {
   "cell_type": "markdown",
   "id": "3956b0fa-fbb9-44c7-a433-b802724a3c25",
   "metadata": {},
   "source": [
    "**Objectives:**\n",
    "- Data Science languages\n",
    "- Data Science libraries\n",
    "- Data Science tools"
   ]
  },
  {
   "cell_type": "markdown",
   "id": "df1ef85b-4f4e-4d88-9646-7751f44e3e9e",
   "metadata": {},
   "source": [
    "Some of the popular languages that Data Scientists use are:"
   ]
  },
  {
   "cell_type": "markdown",
   "id": "f0a09d70-c613-44ed-a4ff-7614a74829e0",
   "metadata": {},
   "source": [
    "1. Python\n",
    "2. R\n",
    "3. Scala"
   ]
  },
  {
   "cell_type": "markdown",
   "id": "7dd0bd5a-4f8f-4017-956a-00c30ddb0131",
   "metadata": {},
   "source": [
    "Some of the commonly used libraries used by Data Scientists include:"
   ]
  },
  {
   "cell_type": "markdown",
   "id": "33f9dbbe-eec4-4fa1-80a7-72f9e2536153",
   "metadata": {},
   "source": [
    "1. Numpy\n",
    "2. Pandas\n",
    "3. Matplotlib"
   ]
  },
  {
   "cell_type": "markdown",
   "id": "5bc3b31c-9920-48da-9c74-75a39edf4259",
   "metadata": {},
   "source": [
    "| Data Science Tools |\n",
    "|----------|\n",
    "| Jupyter Notebook|\n",
    "| Apache Spark|\n",
    "| Tensorflow |\n"
   ]
  },
  {
   "cell_type": "markdown",
   "id": "1e05ff7c-fa6f-4f66-9661-b220544d7f50",
   "metadata": {},
   "source": [
    "### Below are a few examples of evaluating arithmetic expressions in Python"
   ]
  },
  {
   "cell_type": "code",
   "execution_count": 5,
   "id": "2c46f5c4-6838-4722-9d59-71e798fd2a2e",
   "metadata": {
    "tags": []
   },
   "outputs": [
    {
     "data": {
      "text/plain": [
       "17"
      ]
     },
     "execution_count": 5,
     "metadata": {},
     "output_type": "execute_result"
    }
   ],
   "source": [
    "# This a simple arithmetic expression to mutiply then add integers\n",
    "(3*4)+5"
   ]
  },
  {
   "cell_type": "code",
   "execution_count": 6,
   "id": "76663754-bad6-4f08-aad8-31ac2ee043c6",
   "metadata": {
    "tags": []
   },
   "outputs": [
    {
     "data": {
      "text/plain": [
       "3.3333333333333335"
      ]
     },
     "execution_count": 6,
     "metadata": {},
     "output_type": "execute_result"
    }
   ],
   "source": [
    "# This will convert 200 minutes to hours by diving by 60\n",
    "200/60"
   ]
  },
  {
   "cell_type": "markdown",
   "id": "511a742e-098e-4fc0-8665-d93c8945be26",
   "metadata": {},
   "source": [
    "## Author\n",
    "ASHVEN K"
   ]
  }
 ],
 "metadata": {
  "kernelspec": {
   "display_name": "Python",
   "language": "python",
   "name": "conda-env-python-py"
  },
  "language_info": {
   "codemirror_mode": {
    "name": "ipython",
    "version": 3
   },
   "file_extension": ".py",
   "mimetype": "text/x-python",
   "name": "python",
   "nbconvert_exporter": "python",
   "pygments_lexer": "ipython3",
   "version": "3.7.12"
  }
 },
 "nbformat": 4,
 "nbformat_minor": 5
}
